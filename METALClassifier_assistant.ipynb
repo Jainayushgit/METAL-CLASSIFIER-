{
  "cells": [
    {
      "cell_type": "code",
      "execution_count": null,
      "metadata": {
        "colab": {
          "base_uri": "https://localhost:8080/"
        },
        "id": "Z5d8D7ZQTPvL",
        "outputId": "64f635c2-949a-4c87-975e-62f6ea76cb8f"
      },
      "outputs": [
        {
          "output_type": "stream",
          "name": "stdout",
          "text": [
            "Requirement already satisfied: ucimlrepo in /usr/local/lib/python3.10/dist-packages (0.0.7)\n",
            "Requirement already satisfied: pandas>=1.0.0 in /usr/local/lib/python3.10/dist-packages (from ucimlrepo) (2.2.2)\n",
            "Requirement already satisfied: certifi>=2020.12.5 in /usr/local/lib/python3.10/dist-packages (from ucimlrepo) (2024.8.30)\n",
            "Requirement already satisfied: numpy>=1.22.4 in /usr/local/lib/python3.10/dist-packages (from pandas>=1.0.0->ucimlrepo) (1.26.4)\n",
            "Requirement already satisfied: python-dateutil>=2.8.2 in /usr/local/lib/python3.10/dist-packages (from pandas>=1.0.0->ucimlrepo) (2.8.2)\n",
            "Requirement already satisfied: pytz>=2020.1 in /usr/local/lib/python3.10/dist-packages (from pandas>=1.0.0->ucimlrepo) (2024.2)\n",
            "Requirement already satisfied: tzdata>=2022.7 in /usr/local/lib/python3.10/dist-packages (from pandas>=1.0.0->ucimlrepo) (2024.2)\n",
            "Requirement already satisfied: six>=1.5 in /usr/local/lib/python3.10/dist-packages (from python-dateutil>=2.8.2->pandas>=1.0.0->ucimlrepo) (1.16.0)\n",
            "Requirement already satisfied: scipy in /usr/local/lib/python3.10/dist-packages (1.13.1)\n",
            "Requirement already satisfied: numpy<2.3,>=1.22.4 in /usr/local/lib/python3.10/dist-packages (from scipy) (1.26.4)\n"
          ]
        }
      ],
      "source": [
        "import os\n",
        "import pandas as pd\n",
        "import numpy as np\n",
        "from sklearn.model_selection import cross_val_score\n",
        "from sklearn.tree import DecisionTreeClassifier\n",
        "from sklearn.svm import SVC\n",
        "from sklearn.ensemble import RandomForestClassifier\n",
        "from sklearn.naive_bayes import GaussianNB\n",
        "from sklearn.preprocessing import LabelEncoder\n",
        "from sklearn.datasets import fetch_openml\n",
        "from tqdm import tqdm\n",
        "!pip install scipy\n",
        "from scipy.stats import skew, kurtosis # Import skew and kurtosis from scipy.stats\n",
        "\n"
      ]
    },
    {
      "cell_type": "code",
      "execution_count": null,
      "metadata": {
        "id": "tcF_-l28ToI4"
      },
      "outputs": [],
      "source": [
        "def load_meta_knowledge_base(file_path='meta_knowledge_base.csv'):\n",
        "    if os.path.exists(file_path) and os.path.getsize(file_path) > 0:\n",
        "        return pd.read_csv(file_path)\n",
        "    else:\n",
        "        meta_feature_names = ['n_samples', 'num_features', 'n_classes',\n",
        "                              'nominal_count', 'numeric_count', 'class_entropy','mean_numeric','stddev_numeric','skewness_numeric','kurtosis_numeric']\n",
        "\n",
        "        columns = meta_feature_names + ['DecisionTree', 'SVM', 'RandomForest', 'NaiveBayes']\n",
        "        return pd.DataFrame(columns=columns)"
      ]
    },
    {
      "cell_type": "code",
      "execution_count": null,
      "metadata": {
        "id": "FRVYIDRATrzN"
      },
      "outputs": [],
      "source": [
        "def save_meta_knowledge_base(meta_knowledge_base, file_path='meta_knowledge_base.csv'):\n",
        "    \"\"\"\n",
        "    Saves the meta-knowledge base to a CSV file.\n",
        "\n",
        "    Args:\n",
        "        meta_knowledge_base: The meta-knowledge base DataFrame to save.\n",
        "        file_path: The path to the file where the data will be saved.\n",
        "            Defaults to 'meta_knowledge_base.csv'.\n",
        "    \"\"\"\n",
        "    try:\n",
        "        meta_knowledge_base.to_csv(file_path, index=False)\n",
        "        print(f\"Meta-knowledge base saved to {file_path}\")\n",
        "    except Exception as e:\n",
        "        print(f\"Error saving meta-knowledge base: {e}\")"
      ]
    },
    {
      "cell_type": "code",
      "execution_count": null,
      "metadata": {
        "id": "wiw_riw2Tus4"
      },
      "outputs": [],
      "source": [
        "def fetch_dataset(dataset_id):\n",
        "    dataset = fetch_openml(data_id=dataset_id)\n",
        "    X, y = dataset.data, dataset.target\n",
        "\n",
        "    # Encode target labels if necessary\n",
        "    y = encode_labels(y)\n",
        "\n",
        "    return X, y\n",
        "\n",
        "\n",
        "def encode_labels(y):\n",
        "    if y.dtype == 'object' or isinstance(y[0], str):  # If y contains strings\n",
        "        le = LabelEncoder()\n",
        "        y = le.fit_transform(y)\n",
        "    return y\n",
        "\n",
        "\n",
        "\n"
      ]
    },
    {
      "cell_type": "code",
      "execution_count": null,
      "metadata": {
        "id": "Pm5ie7oaTzq_"
      },
      "outputs": [],
      "source": [
        "def extract_meta_features(X, y):\n",
        "    numeric_features = X.select_dtypes(include=[np.number])\n",
        "    nominal_features = X.select_dtypes(exclude=[np.number])\n",
        "\n",
        "    meta_features = {\n",
        "        'n_samples': X.shape[0],\n",
        "        'n_features': X.shape[1],\n",
        "        'n_classes': len(np.unique(y)),\n",
        "        'nominal_count': nominal_features.shape[1],\n",
        "        'numeric_count': numeric_features.shape[1],\n",
        "        'class_entropy': entropy(y),\n",
        "        'mean_numeric': numeric_features.mean().mean() if not numeric_features.empty else 0,\n",
        "        'stddev_numeric': numeric_features.std().mean() if not numeric_features.empty else 0,\n",
        "        'skewness_numeric': skew(numeric_features, nan_policy='omit').mean() if not numeric_features.empty else 0,\n",
        "        'kurtosis_numeric': kurtosis(numeric_features, nan_policy='omit').mean() if not numeric_features.empty else 0,\n",
        "    }\n",
        "    return meta_features\n",
        "\n",
        "\n",
        "# Entropy calculation with label encoding\n",
        "def entropy(y):\n",
        "    y = encode_labels(y)\n",
        "    hist = np.bincount(y)\n",
        "    ps = hist / len(y)\n",
        "    return -np.sum([p * np.log2(p) for p in ps if p > 0])\n"
      ]
    },
    {
      "cell_type": "code",
      "execution_count": null,
      "metadata": {
        "id": "ZwdyWYA4aEGK"
      },
      "outputs": [],
      "source": [
        "# Uncertainty Sampling Method\n",
        "def uncertainty_sampling(meta_knowledge_base, new_meta_features):\n",
        "    if meta_knowledge_base.empty:\n",
        "        print(\"Meta-knowledge base is empty. Skipping uncertainty sampling.\")\n",
        "        return None\n",
        "\n",
        "    # Calculate uncertainty for each dataset in the meta-knowledge base\n",
        "    meta_knowledge_base['uncertainty'] = meta_knowledge_base.apply(\n",
        "        lambda row: np.abs(row['class_entropy'] - new_meta_features['class_entropy']), axis=1)\n",
        "\n",
        "    # Select the dataset with the highest uncertainty\n",
        "    most_uncertain_dataset = meta_knowledge_base.loc[meta_knowledge_base['uncertainty'].idxmax()]\n",
        "    return most_uncertain_dataset"
      ]
    },
    {
      "cell_type": "code",
      "execution_count": null,
      "metadata": {
        "id": "E8qz5d4vUKXP"
      },
      "outputs": [],
      "source": [
        "# Models to evaluate\n",
        "models = {\n",
        "    'DecisionTree': DecisionTreeClassifier(),\n",
        "    'SVM': SVC(),\n",
        "    'RandomForest': RandomForestClassifier(),\n",
        "    'NaiveBayes': GaussianNB()\n",
        "}\n",
        "\n",
        "def preprocess_data(X):\n",
        "    X.replace('none', np.nan, inplace=True)\n",
        "\n",
        "    for col in X.select_dtypes(include=[np.number]).columns:\n",
        "        X[col].fillna(X[col].mean(), inplace=True)\n",
        "\n",
        "\n",
        "\n",
        "    X_encoded = pd.get_dummies(X, columns=X.select_dtypes(include=['object']).columns)\n",
        "\n",
        "    return X_encoded\n",
        "\n",
        "def evaluate_models(X, y, models):\n",
        "    results = {}\n",
        "\n",
        "    X_processed = preprocess_data(X)\n",
        "\n",
        "    for name, model in models.items():\n",
        "        # Perform cross-validation\n",
        "        scores = cross_val_score(model, X_processed, y, cv=5, scoring='accuracy', error_score='raise')\n",
        "        results[name] = scores.mean()\n",
        "\n",
        "    return results\n",
        "\n",
        "def knowledge_acquisition(dataset_ids, meta_knowledge_base):\n",
        "    for dataset_id in tqdm(dataset_ids, desc=\"Processing datasets\"):  # Wrap dataset_ids with tqdm\n",
        "        X, y = fetch_dataset(dataset_id)\n",
        "\n",
        "        # Handle potential errors during feature extraction or model evaluation\n",
        "        try:\n",
        "          # Perform uncertainty sampling on current meta-knowledge base\n",
        "            meta_features = extract_meta_features(X, y)\n",
        "            most_uncertain_dataset = uncertainty_sampling(meta_knowledge_base, meta_features)\n",
        "            if most_uncertain_dataset is None:\n",
        "              print(\"No uncertain dataset found, evaluating the new dataset directly.\")\n",
        "            else:\n",
        "              print(f\"Most uncertain dataset selected: {most_uncertain_dataset}\")\n",
        "\n",
        "\n",
        "            performance = evaluate_models(X, y, models)\n",
        "            meta_knowledge_base = pd.concat([meta_knowledge_base, pd.DataFrame([{**meta_features, **performance}])], ignore_index=True)\n",
        "        except (TypeError, ValueError) as e:\n",
        "            print(f\"Error processing dataset {dataset_id}: {e}\")\n",
        "\n",
        "    return meta_knowledge_base\n",
        "\n",
        "def success_rate_ratio(meta_knowledge_base):\n",
        "    algorithms = ['DecisionTree', 'SVM', 'RandomForest', 'NaiveBayes']\n",
        "    srr = {}\n",
        "\n",
        "    for algo in algorithms:\n",
        "        for other_algo in algorithms:\n",
        "            if algo != other_algo:\n",
        "                srr[algo] = (1 - meta_knowledge_base[algo].mean()) / (1 - meta_knowledge_base[other_algo].mean())\n",
        "\n",
        "    # Return sorted SRR values for ranking\n",
        "    return sorted(srr.items(), key=lambda x: x[1], reverse=True)"
      ]
    },
    {
      "cell_type": "code",
      "execution_count": null,
      "metadata": {
        "id": "HhkNCJPhUTzs"
      },
      "outputs": [],
      "source": [
        "def rank_models_srr(X, y, meta_knowledge_base):\n",
        "    meta_features = extract_meta_features(X, y)\n",
        "    relevant_dataset = uncertainty_sampling(meta_knowledge_base, meta_features)\n",
        "\n",
        "    # Calculate SRR for ranking classifiers\n",
        "    rankings = success_rate_ratio(meta_knowledge_base)\n",
        "\n",
        "    return rankings\n"
      ]
    },
    {
      "cell_type": "code",
      "execution_count": null,
      "metadata": {
        "id": "sR1RbVwVUYKz"
      },
      "outputs": [],
      "source": [
        "meta_knowledge_base = load_meta_knowledge_base()\n",
        "\n",
        "\n",
        "def run_iteration(new_dataset_ids,meta_knowledge_base):\n",
        "\n",
        "    # Perform knowledge acquisition with new datasets\n",
        "    meta_knowledge_base = knowledge_acquisition(new_dataset_ids, meta_knowledge_base)\n",
        "\n",
        "    # Save the updated meta-knowledge base\n",
        "    save_meta_knowledge_base(meta_knowledge_base)\n",
        "\n",
        "    return meta_knowledge_base\n",
        "\n"
      ]
    },
    {
      "cell_type": "code",
      "execution_count": null,
      "metadata": {
        "colab": {
          "base_uri": "https://localhost:8080/"
        },
        "id": "JGvQZtsNUaJ1",
        "outputId": "74ad734e-8459-45f8-a1b0-667e48933d81"
      },
      "outputs": [
        {
          "output_type": "stream",
          "name": "stderr",
          "text": [
            "\rProcessing datasets:   0%|          | 0/2 [00:00<?, ?it/s]<ipython-input-10-1db47d906072>:13: FutureWarning: A value is trying to be set on a copy of a DataFrame or Series through chained assignment using an inplace method.\n",
            "The behavior will change in pandas 3.0. This inplace method will never work because the intermediate object on which we are setting values always behaves as a copy.\n",
            "\n",
            "For example, when doing 'df[col].method(value, inplace=True)', try using 'df.method({col: value}, inplace=True)' or df[col] = df[col].method(value) instead, to perform the operation inplace on the original object.\n",
            "\n",
            "\n",
            "  X[col].fillna(X[col].mean(), inplace=True)\n"
          ]
        },
        {
          "output_type": "stream",
          "name": "stdout",
          "text": [
            "Most uncertain dataset selected: n_samples           214.000000\n",
            "num_features               NaN\n",
            "n_classes             6.000000\n",
            "nominal_count         0.000000\n",
            "numeric_count         9.000000\n",
            "class_entropy         2.176534\n",
            "mean_numeric         11.265852\n",
            "stddev_numeric        0.689541\n",
            "skewness_numeric      1.640988\n",
            "kurtosis_numeric      9.650639\n",
            "DecisionTree          0.682281\n",
            "SVM                   0.355150\n",
            "RandomForest          0.771318\n",
            "NaiveBayes            0.439646\n",
            "n_features            9.000000\n",
            "uncertainty           1.245422\n",
            "Name: 5, dtype: float64\n"
          ]
        },
        {
          "output_type": "stream",
          "name": "stderr",
          "text": [
            "Processing datasets:  50%|█████     | 1/2 [00:06<00:06,  6.20s/it]<ipython-input-10-1db47d906072>:13: FutureWarning: A value is trying to be set on a copy of a DataFrame or Series through chained assignment using an inplace method.\n",
            "The behavior will change in pandas 3.0. This inplace method will never work because the intermediate object on which we are setting values always behaves as a copy.\n",
            "\n",
            "For example, when doing 'df[col].method(value, inplace=True)', try using 'df.method({col: value}, inplace=True)' or df[col] = df[col].method(value) instead, to perform the operation inplace on the original object.\n",
            "\n",
            "\n",
            "  X[col].fillna(X[col].mean(), inplace=True)\n",
            "Processing datasets: 100%|██████████| 2/2 [00:06<00:00,  3.23s/it]"
          ]
        },
        {
          "output_type": "stream",
          "name": "stdout",
          "text": [
            "Most uncertain dataset selected: n_samples           214.000000\n",
            "num_features               NaN\n",
            "n_classes             6.000000\n",
            "nominal_count         0.000000\n",
            "numeric_count         9.000000\n",
            "class_entropy         2.176534\n",
            "mean_numeric         11.265852\n",
            "stddev_numeric        0.689541\n",
            "skewness_numeric      1.640988\n",
            "kurtosis_numeric      9.650639\n",
            "DecisionTree          0.682281\n",
            "SVM                   0.355150\n",
            "RandomForest          0.771318\n",
            "NaiveBayes            0.439646\n",
            "n_features            9.000000\n",
            "uncertainty           1.655903\n",
            "Name: 5, dtype: float64\n",
            "Error processing dataset 1461: could not convert string to float: 'retired'\n",
            "Meta-knowledge base saved to meta_knowledge_base.csv\n"
          ]
        },
        {
          "output_type": "stream",
          "name": "stderr",
          "text": [
            "\n"
          ]
        }
      ],
      "source": [
        "dataset_ids_batch1 = [1504, 1461]\n",
        "meta_knowledge_base = run_iteration(dataset_ids_batch1 ,meta_knowledge_base)\n",
        "#steel_platesfault\n",
        "#bank_marketing"
      ]
    },
    {
      "cell_type": "code",
      "execution_count": null,
      "metadata": {
        "colab": {
          "base_uri": "https://localhost:8080/"
        },
        "id": "Jh956rFRbcVw",
        "outputId": "ce6d0a3a-2484-4d3c-9b7e-4c5b6d969da9"
      },
      "outputs": [
        {
          "output_type": "stream",
          "name": "stderr",
          "text": [
            "Processing datasets:   0%|          | 0/3 [00:00<?, ?it/s]<ipython-input-10-1db47d906072>:10: FutureWarning: The behavior of Series.replace (and DataFrame.replace) with CategoricalDtype is deprecated. In a future version, replace will only be used for cases that preserve the categories. To change the categories, use ser.cat.rename_categories instead.\n",
            "  X.replace('none', np.nan, inplace=True)\n",
            "Processing datasets:  33%|███▎      | 1/3 [00:00<00:00,  9.97it/s]"
          ]
        },
        {
          "output_type": "stream",
          "name": "stdout",
          "text": [
            "Most uncertain dataset selected: n_samples            522.000000\n",
            "num_features                NaN\n",
            "n_classes              2.000000\n",
            "nominal_count          0.000000\n",
            "numeric_count         21.000000\n",
            "class_entropy          0.731779\n",
            "mean_numeric         977.893699\n",
            "stddev_numeric      5875.729588\n",
            "skewness_numeric       8.927345\n",
            "kurtosis_numeric     128.854047\n",
            "DecisionTree           0.735568\n",
            "SVM                    0.827418\n",
            "RandomForest           0.800659\n",
            "NaiveBayes             0.831190\n",
            "n_features            21.000000\n",
            "uncertainty            3.103729\n",
            "Name: 1, dtype: float64\n",
            "Error processing dataset 42: could not convert string to float: 'october'\n",
            "Most uncertain dataset selected: n_samples           214.000000\n",
            "num_features               NaN\n",
            "n_classes             6.000000\n",
            "nominal_count         0.000000\n",
            "numeric_count         9.000000\n",
            "class_entropy         2.176534\n",
            "mean_numeric         11.265852\n",
            "stddev_numeric        0.689541\n",
            "skewness_numeric      1.640988\n",
            "kurtosis_numeric      9.650639\n",
            "DecisionTree          0.682281\n",
            "SVM                   0.355150\n",
            "RandomForest          0.771318\n",
            "NaiveBayes            0.439646\n",
            "n_features            9.000000\n",
            "uncertainty           1.444755\n",
            "Name: 5, dtype: float64\n"
          ]
        },
        {
          "output_type": "stream",
          "name": "stderr",
          "text": [
            "<ipython-input-10-1db47d906072>:13: FutureWarning: A value is trying to be set on a copy of a DataFrame or Series through chained assignment using an inplace method.\n",
            "The behavior will change in pandas 3.0. This inplace method will never work because the intermediate object on which we are setting values always behaves as a copy.\n",
            "\n",
            "For example, when doing 'df[col].method(value, inplace=True)', try using 'df.method({col: value}, inplace=True)' or df[col] = df[col].method(value) instead, to perform the operation inplace on the original object.\n",
            "\n",
            "\n",
            "  X[col].fillna(X[col].mean(), inplace=True)\n",
            "Processing datasets:  67%|██████▋   | 2/3 [00:01<00:00,  1.35it/s]<ipython-input-10-1db47d906072>:13: FutureWarning: A value is trying to be set on a copy of a DataFrame or Series through chained assignment using an inplace method.\n",
            "The behavior will change in pandas 3.0. This inplace method will never work because the intermediate object on which we are setting values always behaves as a copy.\n",
            "\n",
            "For example, when doing 'df[col].method(value, inplace=True)', try using 'df.method({col: value}, inplace=True)' or df[col] = df[col].method(value) instead, to perform the operation inplace on the original object.\n",
            "\n",
            "\n",
            "  X[col].fillna(X[col].mean(), inplace=True)\n"
          ]
        },
        {
          "output_type": "stream",
          "name": "stdout",
          "text": [
            "Most uncertain dataset selected: n_samples           214.000000\n",
            "num_features               NaN\n",
            "n_classes             6.000000\n",
            "nominal_count         0.000000\n",
            "numeric_count         9.000000\n",
            "class_entropy         2.176534\n",
            "mean_numeric         11.265852\n",
            "stddev_numeric        0.689541\n",
            "skewness_numeric      1.640988\n",
            "kurtosis_numeric      9.650639\n",
            "DecisionTree          0.682281\n",
            "SVM                   0.355150\n",
            "RandomForest          0.771318\n",
            "NaiveBayes            0.439646\n",
            "n_features            9.000000\n",
            "uncertainty           1.179804\n",
            "Name: 5, dtype: float64\n"
          ]
        },
        {
          "output_type": "stream",
          "name": "stderr",
          "text": [
            "Processing datasets: 100%|██████████| 3/3 [00:02<00:00,  1.23it/s]"
          ]
        },
        {
          "output_type": "stream",
          "name": "stdout",
          "text": [
            "Meta-knowledge base saved to meta_knowledge_base.csv\n"
          ]
        },
        {
          "output_type": "stream",
          "name": "stderr",
          "text": [
            "\n"
          ]
        }
      ],
      "source": [
        "dataset_ids_batch2 = [42, 1063 ,40]\n",
        "meta_knowledge_base = run_iteration(dataset_ids_batch2, meta_knowledge_base)\n",
        "#soybean\n",
        "#softwaredefectprediction\n",
        "#sonarsignalclassification"
      ]
    },
    {
      "cell_type": "code",
      "execution_count": null,
      "metadata": {
        "colab": {
          "base_uri": "https://localhost:8080/"
        },
        "id": "76ykBgpYWR7j",
        "outputId": "0db6d1a3-8811-4cfe-ce61-1ddf3d5233f2"
      },
      "outputs": [
        {
          "output_type": "stream",
          "name": "stderr",
          "text": [
            "\rProcessing datasets:   0%|          | 0/2 [00:00<?, ?it/s]<ipython-input-10-1db47d906072>:13: FutureWarning: A value is trying to be set on a copy of a DataFrame or Series through chained assignment using an inplace method.\n",
            "The behavior will change in pandas 3.0. This inplace method will never work because the intermediate object on which we are setting values always behaves as a copy.\n",
            "\n",
            "For example, when doing 'df[col].method(value, inplace=True)', try using 'df.method({col: value}, inplace=True)' or df[col] = df[col].method(value) instead, to perform the operation inplace on the original object.\n",
            "\n",
            "\n",
            "  X[col].fillna(X[col].mean(), inplace=True)\n"
          ]
        },
        {
          "output_type": "stream",
          "name": "stdout",
          "text": [
            "Most uncertain dataset selected: n_samples           214.000000\n",
            "num_features               NaN\n",
            "n_classes             6.000000\n",
            "nominal_count         0.000000\n",
            "numeric_count         9.000000\n",
            "class_entropy         2.176534\n",
            "mean_numeric         11.265852\n",
            "stddev_numeric        0.689541\n",
            "skewness_numeric      1.640988\n",
            "kurtosis_numeric      9.650639\n",
            "DecisionTree          0.682281\n",
            "SVM                   0.355150\n",
            "RandomForest          0.771318\n",
            "NaiveBayes            0.439646\n",
            "n_features            9.000000\n",
            "uncertainty           1.384889\n",
            "Name: 5, dtype: float64\n"
          ]
        },
        {
          "output_type": "stream",
          "name": "stderr",
          "text": [
            "\rProcessing datasets:  50%|█████     | 1/2 [00:01<00:01,  1.16s/it]<ipython-input-10-1db47d906072>:13: FutureWarning: A value is trying to be set on a copy of a DataFrame or Series through chained assignment using an inplace method.\n",
            "The behavior will change in pandas 3.0. This inplace method will never work because the intermediate object on which we are setting values always behaves as a copy.\n",
            "\n",
            "For example, when doing 'df[col].method(value, inplace=True)', try using 'df.method({col: value}, inplace=True)' or df[col] = df[col].method(value) instead, to perform the operation inplace on the original object.\n",
            "\n",
            "\n",
            "  X[col].fillna(X[col].mean(), inplace=True)\n"
          ]
        },
        {
          "output_type": "stream",
          "name": "stdout",
          "text": [
            "Most uncertain dataset selected: n_samples           214.000000\n",
            "num_features               NaN\n",
            "n_classes             6.000000\n",
            "nominal_count         0.000000\n",
            "numeric_count         9.000000\n",
            "class_entropy         2.176534\n",
            "mean_numeric         11.265852\n",
            "stddev_numeric        0.689541\n",
            "skewness_numeric      1.640988\n",
            "kurtosis_numeric      9.650639\n",
            "DecisionTree          0.682281\n",
            "SVM                   0.355150\n",
            "RandomForest          0.771318\n",
            "NaiveBayes            0.439646\n",
            "n_features            9.000000\n",
            "uncertainty           1.209174\n",
            "Name: 5, dtype: float64\n"
          ]
        },
        {
          "output_type": "stream",
          "name": "stderr",
          "text": [
            "Processing datasets: 100%|██████████| 2/2 [00:12<00:00,  6.03s/it]"
          ]
        },
        {
          "output_type": "stream",
          "name": "stdout",
          "text": [
            "Meta-knowledge base saved to meta_knowledge_base.csv\n"
          ]
        },
        {
          "output_type": "stream",
          "name": "stderr",
          "text": [
            "\n"
          ]
        }
      ],
      "source": [
        "dataset_ids_batch3 = [1464, 44]\n",
        "meta_knowledge_base = run_iteration(dataset_ids_batch3, meta_knowledge_base)\n",
        "#binary classification\n",
        "# Blood transfusion , email spam"
      ]
    },
    {
      "cell_type": "code",
      "execution_count": null,
      "metadata": {
        "colab": {
          "base_uri": "https://localhost:8080/"
        },
        "id": "fb-kGHi6eo0Z",
        "outputId": "c8ce0704-22de-4774-ee74-2790b4c2d283"
      },
      "outputs": [
        {
          "output_type": "stream",
          "name": "stderr",
          "text": [
            "\rProcessing datasets:   0%|          | 0/2 [00:00<?, ?it/s]<ipython-input-10-1db47d906072>:13: FutureWarning: A value is trying to be set on a copy of a DataFrame or Series through chained assignment using an inplace method.\n",
            "The behavior will change in pandas 3.0. This inplace method will never work because the intermediate object on which we are setting values always behaves as a copy.\n",
            "\n",
            "For example, when doing 'df[col].method(value, inplace=True)', try using 'df.method({col: value}, inplace=True)' or df[col] = df[col].method(value) instead, to perform the operation inplace on the original object.\n",
            "\n",
            "\n",
            "  X[col].fillna(X[col].mean(), inplace=True)\n"
          ]
        },
        {
          "output_type": "stream",
          "name": "stdout",
          "text": [
            "Most uncertain dataset selected: n_samples            522.000000\n",
            "num_features                NaN\n",
            "n_classes              2.000000\n",
            "nominal_count          0.000000\n",
            "numeric_count         21.000000\n",
            "class_entropy          0.731779\n",
            "mean_numeric         977.893699\n",
            "stddev_numeric      5875.729588\n",
            "skewness_numeric       8.927345\n",
            "kurtosis_numeric     128.854047\n",
            "DecisionTree           0.735568\n",
            "SVM                    0.827418\n",
            "RandomForest           0.800659\n",
            "NaiveBayes             0.831190\n",
            "n_features            21.000000\n",
            "uncertainty            1.444755\n",
            "Name: 1, dtype: float64\n"
          ]
        },
        {
          "output_type": "stream",
          "name": "stderr",
          "text": [
            "Processing datasets:  50%|█████     | 1/2 [00:00<00:00,  1.04it/s]<ipython-input-10-1db47d906072>:10: FutureWarning: The behavior of Series.replace (and DataFrame.replace) with CategoricalDtype is deprecated. In a future version, replace will only be used for cases that preserve the categories. To change the categories, use ser.cat.rename_categories instead.\n",
            "  X.replace('none', np.nan, inplace=True)\n",
            "<ipython-input-10-1db47d906072>:13: FutureWarning: A value is trying to be set on a copy of a DataFrame or Series through chained assignment using an inplace method.\n",
            "The behavior will change in pandas 3.0. This inplace method will never work because the intermediate object on which we are setting values always behaves as a copy.\n",
            "\n",
            "For example, when doing 'df[col].method(value, inplace=True)', try using 'df.method({col: value}, inplace=True)' or df[col] = df[col].method(value) instead, to perform the operation inplace on the original object.\n",
            "\n",
            "\n",
            "  X[col].fillna(X[col].mean(), inplace=True)\n",
            "Processing datasets: 100%|██████████| 2/2 [00:01<00:00,  1.94it/s]"
          ]
        },
        {
          "output_type": "stream",
          "name": "stdout",
          "text": [
            "Most uncertain dataset selected: n_samples           214.000000\n",
            "num_features               NaN\n",
            "n_classes             6.000000\n",
            "nominal_count         0.000000\n",
            "numeric_count         9.000000\n",
            "class_entropy         2.176534\n",
            "mean_numeric         11.265852\n",
            "stddev_numeric        0.689541\n",
            "skewness_numeric      1.640988\n",
            "kurtosis_numeric      9.650639\n",
            "DecisionTree          0.682281\n",
            "SVM                   0.355150\n",
            "RandomForest          0.771318\n",
            "NaiveBayes            0.439646\n",
            "n_features            9.000000\n",
            "uncertainty           1.295243\n",
            "Name: 5, dtype: float64\n",
            "Error processing dataset 31: could not convert string to float: 'no checking'\n",
            "Meta-knowledge base saved to meta_knowledge_base.csv\n"
          ]
        },
        {
          "output_type": "stream",
          "name": "stderr",
          "text": [
            "\n"
          ]
        }
      ],
      "source": [
        "dataset_ids_batch4 = [41, 31]\n",
        "meta_knowledge_base = run_iteration(dataset_ids_batch4, meta_knowledge_base)\n",
        "#glass\n",
        "#credit"
      ]
    },
    {
      "cell_type": "code",
      "execution_count": null,
      "metadata": {
        "colab": {
          "base_uri": "https://localhost:8080/"
        },
        "id": "RStcmQDng5vR",
        "outputId": "6ad98845-3c44-4956-b03d-6061b97d8b1c"
      },
      "outputs": [
        {
          "output_type": "stream",
          "name": "stderr",
          "text": [
            "\rProcessing datasets:   0%|          | 0/2 [00:00<?, ?it/s]"
          ]
        },
        {
          "output_type": "stream",
          "name": "stdout",
          "text": [
            "Most uncertain dataset selected: n_samples                 214\n",
            "num_features              NaN\n",
            "n_classes                   6\n",
            "nominal_count               0\n",
            "numeric_count               9\n",
            "class_entropy        2.176534\n",
            "mean_numeric        11.265852\n",
            "stddev_numeric       0.689541\n",
            "skewness_numeric     1.640988\n",
            "kurtosis_numeric     9.650639\n",
            "DecisionTree         0.682281\n",
            "SVM                   0.35515\n",
            "RandomForest         0.771318\n",
            "NaiveBayes           0.439646\n",
            "n_features                9.0\n",
            "uncertainty          1.185303\n",
            "Name: 5, dtype: object\n"
          ]
        },
        {
          "output_type": "stream",
          "name": "stderr",
          "text": [
            "<ipython-input-7-1db47d906072>:13: FutureWarning: A value is trying to be set on a copy of a DataFrame or Series through chained assignment using an inplace method.\n",
            "The behavior will change in pandas 3.0. This inplace method will never work because the intermediate object on which we are setting values always behaves as a copy.\n",
            "\n",
            "For example, when doing 'df[col].method(value, inplace=True)', try using 'df.method({col: value}, inplace=True)' or df[col] = df[col].method(value) instead, to perform the operation inplace on the original object.\n",
            "\n",
            "\n",
            "  X[col].fillna(X[col].mean(), inplace=True)\n",
            "Processing datasets:  50%|█████     | 1/2 [00:01<00:01,  1.70s/it]"
          ]
        },
        {
          "output_type": "stream",
          "name": "stdout",
          "text": [
            "Error processing dataset 40981: unsupported operand type(s) for /: 'str' and 'int'\n",
            "Most uncertain dataset selected: n_samples                 214\n",
            "num_features              NaN\n",
            "n_classes                   6\n",
            "nominal_count               0\n",
            "numeric_count               9\n",
            "class_entropy        2.176534\n",
            "mean_numeric        11.265852\n",
            "stddev_numeric       0.689541\n",
            "skewness_numeric     1.640988\n",
            "kurtosis_numeric     9.650639\n",
            "DecisionTree         0.682281\n",
            "SVM                   0.35515\n",
            "RandomForest         0.771318\n",
            "NaiveBayes           0.439646\n",
            "n_features                9.0\n",
            "uncertainty            1.3513\n",
            "Name: 5, dtype: object\n"
          ]
        },
        {
          "output_type": "stream",
          "name": "stderr",
          "text": [
            "<ipython-input-7-1db47d906072>:13: FutureWarning: A value is trying to be set on a copy of a DataFrame or Series through chained assignment using an inplace method.\n",
            "The behavior will change in pandas 3.0. This inplace method will never work because the intermediate object on which we are setting values always behaves as a copy.\n",
            "\n",
            "For example, when doing 'df[col].method(value, inplace=True)', try using 'df.method({col: value}, inplace=True)' or df[col] = df[col].method(value) instead, to perform the operation inplace on the original object.\n",
            "\n",
            "\n",
            "  X[col].fillna(X[col].mean(), inplace=True)\n",
            "Processing datasets: 100%|██████████| 2/2 [00:04<00:00,  2.38s/it]"
          ]
        },
        {
          "output_type": "stream",
          "name": "stdout",
          "text": [
            "Meta-knowledge base saved to meta_knowledge_base.csv\n"
          ]
        },
        {
          "output_type": "stream",
          "name": "stderr",
          "text": [
            "\n"
          ]
        }
      ],
      "source": [
        "dataset_ids_batch4 = [40981, 1547]\n",
        "meta_knowledge_base = run_iteration(dataset_ids_batch4, meta_knowledge_base)\n",
        "#breastcancer #credit approval"
      ]
    },
    {
      "cell_type": "markdown",
      "metadata": {
        "id": "ahgKdoprejJe"
      },
      "source": []
    },
    {
      "cell_type": "code",
      "execution_count": null,
      "metadata": {
        "colab": {
          "base_uri": "https://localhost:8080/"
        },
        "id": "ZxL2q_dtj2Gn",
        "outputId": "0b0ef836-9537-44cd-fc32-bd9e7ebe6d9f"
      },
      "outputs": [
        {
          "output_type": "stream",
          "name": "stderr",
          "text": [
            "\rProcessing datasets:   0%|          | 0/1 [00:00<?, ?it/s]"
          ]
        },
        {
          "output_type": "stream",
          "name": "stdout",
          "text": [
            "Most uncertain dataset selected: n_samples                   522\n",
            "num_features                NaN\n",
            "n_classes                     2\n",
            "nominal_count                 0\n",
            "numeric_count                21\n",
            "class_entropy          0.731779\n",
            "mean_numeric         977.893699\n",
            "stddev_numeric      5875.729588\n",
            "skewness_numeric       8.927345\n",
            "kurtosis_numeric     128.854047\n",
            "DecisionTree           0.735568\n",
            "SVM                    0.827418\n",
            "RandomForest           0.800659\n",
            "NaiveBayes              0.83119\n",
            "n_features                 21.0\n",
            "uncertainty            2.588058\n",
            "Name: 1, dtype: object\n"
          ]
        },
        {
          "output_type": "stream",
          "name": "stderr",
          "text": [
            "<ipython-input-7-1db47d906072>:13: FutureWarning: A value is trying to be set on a copy of a DataFrame or Series through chained assignment using an inplace method.\n",
            "The behavior will change in pandas 3.0. This inplace method will never work because the intermediate object on which we are setting values always behaves as a copy.\n",
            "\n",
            "For example, when doing 'df[col].method(value, inplace=True)', try using 'df.method({col: value}, inplace=True)' or df[col] = df[col].method(value) instead, to perform the operation inplace on the original object.\n",
            "\n",
            "\n",
            "  X[col].fillna(X[col].mean(), inplace=True)\n"
          ]
        }
      ],
      "source": [
        "dataset_ids_batch5 = [554]\n",
        "meta_knowledge_base = run_iteration(dataset_ids_batch5, meta_knowledge_base)\n"
      ]
    },
    {
      "cell_type": "code",
      "source": [
        "dataset_ids_batch5 = [61]\n",
        "meta_knowledge_base = run_iteration(dataset_ids_batch5, meta_knowledge_base)\n",
        "#iris"
      ],
      "metadata": {
        "id": "VNwLTpw97Cu0",
        "colab": {
          "base_uri": "https://localhost:8080/"
        },
        "outputId": "7e402b92-ee5f-4f64-f2a3-fd3eb71bf602"
      },
      "execution_count": null,
      "outputs": [
        {
          "output_type": "stream",
          "name": "stderr",
          "text": [
            "\rProcessing datasets:   0%|          | 0/1 [00:00<?, ?it/s]"
          ]
        },
        {
          "output_type": "stream",
          "name": "stdout",
          "text": [
            "Most uncertain dataset selected: n_samples            522.000000\n",
            "num_features                NaN\n",
            "n_classes              2.000000\n",
            "nominal_count          0.000000\n",
            "numeric_count         21.000000\n",
            "class_entropy          0.731779\n",
            "mean_numeric         977.893699\n",
            "stddev_numeric      5875.729588\n",
            "skewness_numeric       8.927345\n",
            "kurtosis_numeric     128.854047\n",
            "DecisionTree           0.735568\n",
            "SVM                    0.827418\n",
            "RandomForest           0.800659\n",
            "NaiveBayes             0.831190\n",
            "n_features            21.000000\n",
            "uncertainty            0.853184\n",
            "Name: 1, dtype: float64\n"
          ]
        },
        {
          "output_type": "stream",
          "name": "stderr",
          "text": [
            "<ipython-input-10-1db47d906072>:13: FutureWarning: A value is trying to be set on a copy of a DataFrame or Series through chained assignment using an inplace method.\n",
            "The behavior will change in pandas 3.0. This inplace method will never work because the intermediate object on which we are setting values always behaves as a copy.\n",
            "\n",
            "For example, when doing 'df[col].method(value, inplace=True)', try using 'df.method({col: value}, inplace=True)' or df[col] = df[col].method(value) instead, to perform the operation inplace on the original object.\n",
            "\n",
            "\n",
            "  X[col].fillna(X[col].mean(), inplace=True)\n",
            "Processing datasets: 100%|██████████| 1/1 [00:01<00:00,  1.10s/it]"
          ]
        },
        {
          "output_type": "stream",
          "name": "stdout",
          "text": [
            "Meta-knowledge base saved to meta_knowledge_base.csv\n"
          ]
        },
        {
          "output_type": "stream",
          "name": "stderr",
          "text": [
            "\n"
          ]
        }
      ]
    },
    {
      "cell_type": "code",
      "source": [
        "X_new, y_new = fetch_dataset(44270)  # Example dataset for advisory\n",
        "model_ranking = rank_models_srr(X_new, y_new, meta_knowledge_base)\n",
        "print(\"Model Ranking (using SRR):\")\n",
        "for rank, (model, score) in enumerate(model_ranking, start=1):\n",
        "    print(f\"{rank}. {model} - SRR Score: {score:.4f}\")\n",
        "#turing_course_binary_data"
      ],
      "metadata": {
        "colab": {
          "base_uri": "https://localhost:8080/"
        },
        "id": "7b3rz5R85oAf",
        "outputId": "46f7ce2f-7536-4a38-90d1-ad5160300280"
      },
      "execution_count": null,
      "outputs": [
        {
          "output_type": "stream",
          "name": "stdout",
          "text": [
            "Model Ranking (using SRR):\n",
            "1. NaiveBayes - SRR Score: 1.5291\n",
            "2. SVM - SRR Score: 1.0546\n",
            "3. DecisionTree - SRR Score: 0.7993\n",
            "4. RandomForest - SRR Score: 0.6540\n"
          ]
        }
      ]
    },
    {
      "cell_type": "code",
      "source": [
        "X_new, y_new = fetch_dataset(44270)\n",
        "extract_meta_features(X_new,y_new)\n"
      ],
      "metadata": {
        "colab": {
          "base_uri": "https://localhost:8080/"
        },
        "id": "pDMbqk8BAQEM",
        "outputId": "fa2e06b0-b980-4580-86bd-43b4d877bb72"
      },
      "execution_count": null,
      "outputs": [
        {
          "output_type": "execute_result",
          "data": {
            "text/plain": [
              "{'n_samples': 10000,\n",
              " 'n_features': 52,\n",
              " 'n_classes': 2,\n",
              " 'nominal_count': 2,\n",
              " 'numeric_count': 50,\n",
              " 'class_entropy': 0.949357838514423,\n",
              " 'mean_numeric': -0.001682835857856283,\n",
              " 'stddev_numeric': 0.9996053541243545,\n",
              " 'skewness_numeric': 0.01023429371538489,\n",
              " 'kurtosis_numeric': 0.07973497107585815}"
            ]
          },
          "metadata": {},
          "execution_count": 36
        }
      ]
    },
    {
      "cell_type": "code",
      "source": [],
      "metadata": {
        "id": "c7D79GPkAj7y"
      },
      "execution_count": null,
      "outputs": []
    }
  ],
  "metadata": {
    "colab": {
      "provenance": []
    },
    "kernelspec": {
      "display_name": "Python 3",
      "name": "python3"
    },
    "language_info": {
      "name": "python"
    }
  },
  "nbformat": 4,
  "nbformat_minor": 0
}